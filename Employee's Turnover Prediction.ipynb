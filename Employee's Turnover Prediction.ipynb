{
 "cells": [
  {
   "cell_type": "code",
   "execution_count": 76,
   "id": "8bc6bf19",
   "metadata": {},
   "outputs": [],
   "source": [
    "\n",
    "\n",
    "\n",
    "\n",
    "# data analysis and wrangling\n",
    "import pandas as pd\n",
    "import numpy as np\n",
    "import random as rnd\n",
    "\n",
    "# visualization\n",
    "import seaborn as sns\n",
    "import matplotlib.pyplot as plt\n",
    "%matplotlib inline\n",
    "\n",
    "# machine learning\n",
    "from sklearn.linear_model import LogisticRegression\n",
    "from sklearn.svm import SVC, LinearSVC\n",
    "from sklearn.ensemble import RandomForestClassifier\n",
    "from sklearn.neighbors import KNeighborsClassifier\n",
    "from sklearn.naive_bayes import GaussianNB\n",
    "from sklearn.linear_model import Perceptron\n",
    "from sklearn.linear_model import SGDClassifier\n",
    "from sklearn.tree import DecisionTreeClassifier\n",
    "\n",
    "\n",
    "\n",
    "\n",
    "\n"
   ]
  },
  {
   "cell_type": "code",
   "execution_count": 171,
   "id": "2a60959c",
   "metadata": {},
   "outputs": [],
   "source": [
    "data = pd.read_csv('Data_Clean.csv',encoding = \"ISO-8859-1\")"
   ]
  },
  {
   "cell_type": "code",
   "execution_count": 72,
   "id": "a2514aff",
   "metadata": {},
   "outputs": [
    {
     "data": {
      "text/plain": [
       "(1129, 20)"
      ]
     },
     "execution_count": 72,
     "metadata": {},
     "output_type": "execute_result"
    }
   ],
   "source": [
    "data.shape"
   ]
  },
  {
   "cell_type": "code",
   "execution_count": 69,
   "id": "d730f6ef",
   "metadata": {},
   "outputs": [
    {
     "data": {
      "text/html": [
       "<div>\n",
       "<style scoped>\n",
       "    .dataframe tbody tr th:only-of-type {\n",
       "        vertical-align: middle;\n",
       "    }\n",
       "\n",
       "    .dataframe tbody tr th {\n",
       "        vertical-align: top;\n",
       "    }\n",
       "\n",
       "    .dataframe thead th {\n",
       "        text-align: right;\n",
       "    }\n",
       "</style>\n",
       "<table border=\"1\" class=\"dataframe\">\n",
       "  <thead>\n",
       "    <tr style=\"text-align: right;\">\n",
       "      <th></th>\n",
       "      <th>Time</th>\n",
       "      <th>Independence_Level</th>\n",
       "      <th>Extraversion_Level</th>\n",
       "      <th>Selfcontrol_level</th>\n",
       "      <th>Anxiety_Level</th>\n",
       "      <th>Turnover</th>\n",
       "    </tr>\n",
       "  </thead>\n",
       "  <tbody>\n",
       "    <tr>\n",
       "      <th>count</th>\n",
       "      <td>1129.000000</td>\n",
       "      <td>1129.000000</td>\n",
       "      <td>1129.000000</td>\n",
       "      <td>1129.000000</td>\n",
       "      <td>1129.000000</td>\n",
       "      <td>1129.000000</td>\n",
       "    </tr>\n",
       "    <tr>\n",
       "      <th>mean</th>\n",
       "      <td>36.627526</td>\n",
       "      <td>5.478034</td>\n",
       "      <td>5.592383</td>\n",
       "      <td>5.597254</td>\n",
       "      <td>5.665633</td>\n",
       "      <td>0.505757</td>\n",
       "    </tr>\n",
       "    <tr>\n",
       "      <th>std</th>\n",
       "      <td>34.096597</td>\n",
       "      <td>1.703312</td>\n",
       "      <td>1.851637</td>\n",
       "      <td>1.980101</td>\n",
       "      <td>1.709176</td>\n",
       "      <td>0.500188</td>\n",
       "    </tr>\n",
       "    <tr>\n",
       "      <th>min</th>\n",
       "      <td>0.394251</td>\n",
       "      <td>1.000000</td>\n",
       "      <td>1.000000</td>\n",
       "      <td>1.000000</td>\n",
       "      <td>1.700000</td>\n",
       "      <td>0.000000</td>\n",
       "    </tr>\n",
       "    <tr>\n",
       "      <th>25%</th>\n",
       "      <td>11.728950</td>\n",
       "      <td>4.100000</td>\n",
       "      <td>4.600000</td>\n",
       "      <td>4.100000</td>\n",
       "      <td>4.800000</td>\n",
       "      <td>0.000000</td>\n",
       "    </tr>\n",
       "    <tr>\n",
       "      <th>50%</th>\n",
       "      <td>24.344969</td>\n",
       "      <td>5.500000</td>\n",
       "      <td>5.400000</td>\n",
       "      <td>5.700000</td>\n",
       "      <td>5.600000</td>\n",
       "      <td>1.000000</td>\n",
       "    </tr>\n",
       "    <tr>\n",
       "      <th>75%</th>\n",
       "      <td>51.318280</td>\n",
       "      <td>6.900000</td>\n",
       "      <td>7.000000</td>\n",
       "      <td>7.200000</td>\n",
       "      <td>7.100000</td>\n",
       "      <td>1.000000</td>\n",
       "    </tr>\n",
       "    <tr>\n",
       "      <th>max</th>\n",
       "      <td>179.449692</td>\n",
       "      <td>10.000000</td>\n",
       "      <td>10.000000</td>\n",
       "      <td>10.000000</td>\n",
       "      <td>10.000000</td>\n",
       "      <td>1.000000</td>\n",
       "    </tr>\n",
       "  </tbody>\n",
       "</table>\n",
       "</div>"
      ],
      "text/plain": [
       "              Time  Independence_Level  Extraversion_Level  Selfcontrol_level  \\\n",
       "count  1129.000000         1129.000000         1129.000000        1129.000000   \n",
       "mean     36.627526            5.478034            5.592383           5.597254   \n",
       "std      34.096597            1.703312            1.851637           1.980101   \n",
       "min       0.394251            1.000000            1.000000           1.000000   \n",
       "25%      11.728950            4.100000            4.600000           4.100000   \n",
       "50%      24.344969            5.500000            5.400000           5.700000   \n",
       "75%      51.318280            6.900000            7.000000           7.200000   \n",
       "max     179.449692           10.000000           10.000000          10.000000   \n",
       "\n",
       "       Anxiety_Level     Turnover  \n",
       "count    1129.000000  1129.000000  \n",
       "mean        5.665633     0.505757  \n",
       "std         1.709176     0.500188  \n",
       "min         1.700000     0.000000  \n",
       "25%         4.800000     0.000000  \n",
       "50%         5.600000     1.000000  \n",
       "75%         7.100000     1.000000  \n",
       "max        10.000000     1.000000  "
      ]
     },
     "execution_count": 69,
     "metadata": {},
     "output_type": "execute_result"
    }
   ],
   "source": [
    "data.describe()"
   ]
  },
  {
   "cell_type": "code",
   "execution_count": 73,
   "id": "6df55ff0",
   "metadata": {},
   "outputs": [
    {
     "data": {
      "text/plain": [
       "Time                             0\n",
       "Status                           0\n",
       "Age                              0\n",
       "Transport                        0\n",
       "Independence_Level               0\n",
       "Independence                     0\n",
       "Extraversion_Level               0\n",
       "Extraversion                     0\n",
       "Selfcontrol_level                0\n",
       "Selfcontrol                      0\n",
       "Anxiety_Level                    0\n",
       "Anxiety                          0\n",
       "Turnover                         0\n",
       "Industry_HighT_Group             0\n",
       "PowerIndustry                    0\n",
       "Profession_Group                 0\n",
       "Risk_Group                       0\n",
       "Risk_Group2                      0\n",
       "RiskGroup_Profession_Industry    0\n",
       "RiskGroup_Age_Anxiety            0\n",
       "dtype: int64"
      ]
     },
     "execution_count": 73,
     "metadata": {},
     "output_type": "execute_result"
    }
   ],
   "source": [
    "\n",
    "data.isna().sum()\n"
   ]
  },
  {
   "cell_type": "code",
   "execution_count": 71,
   "id": "596eca34",
   "metadata": {},
   "outputs": [
    {
     "name": "stdout",
     "output_type": "stream",
     "text": [
      "['Time' 'Status' 'Age' 'Transport' 'Independence_Level' 'Independence'\n",
      " 'Extraversion_Level' 'Extraversion' 'Selfcontrol_level' 'Selfcontrol'\n",
      " 'Anxiety_Level' 'Anxiety' 'Turnover' 'Industry_HighT_Group'\n",
      " 'PowerIndustry' 'Profession_Group' 'Risk_Group' 'Risk_Group2'\n",
      " 'RiskGroup_Profession_Industry' 'RiskGroup_Age_Anxiety']\n"
     ]
    }
   ],
   "source": [
    "print(data.columns.values)"
   ]
  },
  {
   "cell_type": "code",
   "execution_count": 74,
   "id": "6613c0fa",
   "metadata": {
    "scrolled": true
   },
   "outputs": [
    {
     "data": {
      "text/html": [
       "<div>\n",
       "<style scoped>\n",
       "    .dataframe tbody tr th:only-of-type {\n",
       "        vertical-align: middle;\n",
       "    }\n",
       "\n",
       "    .dataframe tbody tr th {\n",
       "        vertical-align: top;\n",
       "    }\n",
       "\n",
       "    .dataframe thead th {\n",
       "        text-align: right;\n",
       "    }\n",
       "</style>\n",
       "<table border=\"1\" class=\"dataframe\">\n",
       "  <thead>\n",
       "    <tr style=\"text-align: right;\">\n",
       "      <th></th>\n",
       "      <th>Time</th>\n",
       "      <th>Status</th>\n",
       "      <th>Age</th>\n",
       "      <th>Transport</th>\n",
       "      <th>Independence_Level</th>\n",
       "      <th>Independence</th>\n",
       "      <th>Extraversion_Level</th>\n",
       "      <th>Extraversion</th>\n",
       "      <th>Selfcontrol_level</th>\n",
       "      <th>Selfcontrol</th>\n",
       "      <th>Anxiety_Level</th>\n",
       "      <th>Anxiety</th>\n",
       "      <th>Turnover</th>\n",
       "      <th>Industry_HighT_Group</th>\n",
       "      <th>PowerIndustry</th>\n",
       "      <th>Profession_Group</th>\n",
       "      <th>Risk_Group</th>\n",
       "      <th>Risk_Group2</th>\n",
       "      <th>RiskGroup_Profession_Industry</th>\n",
       "      <th>RiskGroup_Age_Anxiety</th>\n",
       "    </tr>\n",
       "  </thead>\n",
       "  <tbody>\n",
       "    <tr>\n",
       "      <th>1</th>\n",
       "      <td>7.030801</td>\n",
       "      <td>True</td>\n",
       "      <td>&lt;=35</td>\n",
       "      <td>bus</td>\n",
       "      <td>4.1</td>\n",
       "      <td>Independent</td>\n",
       "      <td>6.2</td>\n",
       "      <td>Extraverted</td>\n",
       "      <td>5.7</td>\n",
       "      <td>NO Selfcontrol</td>\n",
       "      <td>7.1</td>\n",
       "      <td>Anxious</td>\n",
       "      <td>1</td>\n",
       "      <td>Banks</td>\n",
       "      <td>BCA</td>\n",
       "      <td>HR</td>\n",
       "      <td>High Risk</td>\n",
       "      <td>Medium Risk</td>\n",
       "      <td>Medium Risk</td>\n",
       "      <td>High Risk</td>\n",
       "    </tr>\n",
       "    <tr>\n",
       "      <th>2</th>\n",
       "      <td>22.965092</td>\n",
       "      <td>True</td>\n",
       "      <td>&lt;=35</td>\n",
       "      <td>bus</td>\n",
       "      <td>4.1</td>\n",
       "      <td>Independent</td>\n",
       "      <td>6.2</td>\n",
       "      <td>Extraverted</td>\n",
       "      <td>5.7</td>\n",
       "      <td>NO Selfcontrol</td>\n",
       "      <td>7.1</td>\n",
       "      <td>Anxious</td>\n",
       "      <td>1</td>\n",
       "      <td>Banks</td>\n",
       "      <td>BCA</td>\n",
       "      <td>HR</td>\n",
       "      <td>High Risk</td>\n",
       "      <td>Medium Risk</td>\n",
       "      <td>Medium Risk</td>\n",
       "      <td>High Risk</td>\n",
       "    </tr>\n",
       "    <tr>\n",
       "      <th>3</th>\n",
       "      <td>15.934292</td>\n",
       "      <td>True</td>\n",
       "      <td>&lt;=35</td>\n",
       "      <td>bus</td>\n",
       "      <td>6.2</td>\n",
       "      <td>Independent</td>\n",
       "      <td>6.2</td>\n",
       "      <td>Extraverted</td>\n",
       "      <td>2.6</td>\n",
       "      <td>NO Selfcontrol</td>\n",
       "      <td>4.8</td>\n",
       "      <td>NO Anxious</td>\n",
       "      <td>1</td>\n",
       "      <td>others</td>\n",
       "      <td>MOE</td>\n",
       "      <td>HR</td>\n",
       "      <td>Low Risk</td>\n",
       "      <td>Medium Risk</td>\n",
       "      <td>Medium Risk</td>\n",
       "      <td>Low Risk</td>\n",
       "    </tr>\n",
       "    <tr>\n",
       "      <th>4</th>\n",
       "      <td>15.934292</td>\n",
       "      <td>True</td>\n",
       "      <td>&lt;=35</td>\n",
       "      <td>bus</td>\n",
       "      <td>7.6</td>\n",
       "      <td>Independent</td>\n",
       "      <td>5.4</td>\n",
       "      <td>Introverted</td>\n",
       "      <td>4.9</td>\n",
       "      <td>NO Selfcontrol</td>\n",
       "      <td>2.5</td>\n",
       "      <td>NO Anxious</td>\n",
       "      <td>1</td>\n",
       "      <td>others</td>\n",
       "      <td>MOE</td>\n",
       "      <td>HR</td>\n",
       "      <td>Low Risk</td>\n",
       "      <td>Medium Risk</td>\n",
       "      <td>Medium Risk</td>\n",
       "      <td>Low Risk</td>\n",
       "    </tr>\n",
       "    <tr>\n",
       "      <th>5</th>\n",
       "      <td>8.410678</td>\n",
       "      <td>True</td>\n",
       "      <td>&lt;=35</td>\n",
       "      <td>bus</td>\n",
       "      <td>4.1</td>\n",
       "      <td>Independent</td>\n",
       "      <td>3.0</td>\n",
       "      <td>Introverted</td>\n",
       "      <td>8.0</td>\n",
       "      <td>Selfcontrol</td>\n",
       "      <td>7.1</td>\n",
       "      <td>Anxious</td>\n",
       "      <td>1</td>\n",
       "      <td>others</td>\n",
       "      <td>MOE</td>\n",
       "      <td>Others</td>\n",
       "      <td>High Risk</td>\n",
       "      <td>Medium Risk</td>\n",
       "      <td>Medium Risk</td>\n",
       "      <td>High Risk</td>\n",
       "    </tr>\n",
       "  </tbody>\n",
       "</table>\n",
       "</div>"
      ],
      "text/plain": [
       "        Time  Status   Age Transport  Independence_Level Independence  \\\n",
       "1   7.030801    True  <=35       bus                 4.1  Independent   \n",
       "2  22.965092    True  <=35       bus                 4.1  Independent   \n",
       "3  15.934292    True  <=35       bus                 6.2  Independent   \n",
       "4  15.934292    True  <=35       bus                 7.6  Independent   \n",
       "5   8.410678    True  <=35       bus                 4.1  Independent   \n",
       "\n",
       "   Extraversion_Level Extraversion  Selfcontrol_level      Selfcontrol  \\\n",
       "1                 6.2  Extraverted                5.7   NO Selfcontrol   \n",
       "2                 6.2  Extraverted                5.7   NO Selfcontrol   \n",
       "3                 6.2  Extraverted                2.6   NO Selfcontrol   \n",
       "4                 5.4  Introverted                4.9   NO Selfcontrol   \n",
       "5                 3.0  Introverted                8.0      Selfcontrol   \n",
       "\n",
       "   Anxiety_Level      Anxiety  Turnover Industry_HighT_Group PowerIndustry  \\\n",
       "1            7.1      Anxious         1                Banks           BCA   \n",
       "2            7.1      Anxious         1                Banks           BCA   \n",
       "3            4.8   NO Anxious         1               others           MOE   \n",
       "4            2.5   NO Anxious         1               others           MOE   \n",
       "5            7.1      Anxious         1               others           MOE   \n",
       "\n",
       "  Profession_Group Risk_Group  Risk_Group2 RiskGroup_Profession_Industry  \\\n",
       "1               HR  High Risk  Medium Risk                   Medium Risk   \n",
       "2               HR  High Risk  Medium Risk                   Medium Risk   \n",
       "3               HR   Low Risk  Medium Risk                   Medium Risk   \n",
       "4               HR   Low Risk  Medium Risk                   Medium Risk   \n",
       "5           Others  High Risk  Medium Risk                   Medium Risk   \n",
       "\n",
       "  RiskGroup_Age_Anxiety  \n",
       "1             High Risk  \n",
       "2             High Risk  \n",
       "3              Low Risk  \n",
       "4              Low Risk  \n",
       "5             High Risk  "
      ]
     },
     "execution_count": 74,
     "metadata": {},
     "output_type": "execute_result"
    }
   ],
   "source": [
    "data.head()"
   ]
  },
  {
   "cell_type": "code",
   "execution_count": 172,
   "id": "59b01266",
   "metadata": {},
   "outputs": [],
   "source": [
    "data= data.loc[:, ['Turnover', 'Age', 'Anxiety_Level', 'Profession_Group']]"
   ]
  },
  {
   "cell_type": "code",
   "execution_count": 86,
   "id": "25fdced4",
   "metadata": {},
   "outputs": [
    {
     "data": {
      "text/html": [
       "<div>\n",
       "<style scoped>\n",
       "    .dataframe tbody tr th:only-of-type {\n",
       "        vertical-align: middle;\n",
       "    }\n",
       "\n",
       "    .dataframe tbody tr th {\n",
       "        vertical-align: top;\n",
       "    }\n",
       "\n",
       "    .dataframe thead th {\n",
       "        text-align: right;\n",
       "    }\n",
       "</style>\n",
       "<table border=\"1\" class=\"dataframe\">\n",
       "  <thead>\n",
       "    <tr style=\"text-align: right;\">\n",
       "      <th></th>\n",
       "      <th>Turnover</th>\n",
       "      <th>Age</th>\n",
       "      <th>Anxiety_Level</th>\n",
       "      <th>Profession_Group</th>\n",
       "    </tr>\n",
       "  </thead>\n",
       "  <tbody>\n",
       "    <tr>\n",
       "      <th>1</th>\n",
       "      <td>1</td>\n",
       "      <td>&lt;=35</td>\n",
       "      <td>7.1</td>\n",
       "      <td>HR</td>\n",
       "    </tr>\n",
       "    <tr>\n",
       "      <th>2</th>\n",
       "      <td>1</td>\n",
       "      <td>&lt;=35</td>\n",
       "      <td>7.1</td>\n",
       "      <td>HR</td>\n",
       "    </tr>\n",
       "    <tr>\n",
       "      <th>3</th>\n",
       "      <td>1</td>\n",
       "      <td>&lt;=35</td>\n",
       "      <td>4.8</td>\n",
       "      <td>HR</td>\n",
       "    </tr>\n",
       "    <tr>\n",
       "      <th>4</th>\n",
       "      <td>1</td>\n",
       "      <td>&lt;=35</td>\n",
       "      <td>2.5</td>\n",
       "      <td>HR</td>\n",
       "    </tr>\n",
       "    <tr>\n",
       "      <th>5</th>\n",
       "      <td>1</td>\n",
       "      <td>&lt;=35</td>\n",
       "      <td>7.1</td>\n",
       "      <td>Others</td>\n",
       "    </tr>\n",
       "  </tbody>\n",
       "</table>\n",
       "</div>"
      ],
      "text/plain": [
       "   Turnover   Age  Anxiety_Level Profession_Group\n",
       "1         1  <=35            7.1               HR\n",
       "2         1  <=35            7.1               HR\n",
       "3         1  <=35            4.8               HR\n",
       "4         1  <=35            2.5               HR\n",
       "5         1  <=35            7.1           Others"
      ]
     },
     "execution_count": 86,
     "metadata": {},
     "output_type": "execute_result"
    }
   ],
   "source": [
    "data.head()"
   ]
  },
  {
   "cell_type": "code",
   "execution_count": 88,
   "id": "7898aa0f",
   "metadata": {},
   "outputs": [
    {
     "data": {
      "text/plain": [
       "Turnover            0\n",
       "Age                 0\n",
       "Anxiety_Level       0\n",
       "Profession_Group    0\n",
       "dtype: int64"
      ]
     },
     "execution_count": 88,
     "metadata": {},
     "output_type": "execute_result"
    }
   ],
   "source": [
    "data.isna().sum()"
   ]
  },
  {
   "cell_type": "code",
   "execution_count": 173,
   "id": "d86a9992",
   "metadata": {},
   "outputs": [],
   "source": [
    "X= data.loc[:, ['Anxiety_Level']]\n",
    "Y= data.Turnover"
   ]
  },
  {
   "cell_type": "code",
   "execution_count": 106,
   "id": "87fff96f",
   "metadata": {},
   "outputs": [
    {
     "data": {
      "text/plain": [
       "(1129, 1)"
      ]
     },
     "execution_count": 106,
     "metadata": {},
     "output_type": "execute_result"
    }
   ],
   "source": [
    "X.shape\n"
   ]
  },
  {
   "cell_type": "code",
   "execution_count": 107,
   "id": "869d5b1b",
   "metadata": {},
   "outputs": [
    {
     "data": {
      "text/plain": [
       "(1129,)"
      ]
     },
     "execution_count": 107,
     "metadata": {},
     "output_type": "execute_result"
    }
   ],
   "source": [
    "Y.shape"
   ]
  },
  {
   "cell_type": "code",
   "execution_count": 174,
   "id": "70b63e5f",
   "metadata": {},
   "outputs": [],
   "source": [
    "from sklearn.linear_model import LogisticRegression"
   ]
  },
  {
   "cell_type": "code",
   "execution_count": 175,
   "id": "1952a4aa",
   "metadata": {},
   "outputs": [],
   "source": [
    "logreg = LogisticRegression(solver= 'lbfgs')"
   ]
  },
  {
   "cell_type": "code",
   "execution_count": 176,
   "id": "cc197295",
   "metadata": {},
   "outputs": [],
   "source": [
    "from sklearn.model_selection import cross_val_score"
   ]
  },
  {
   "cell_type": "code",
   "execution_count": 177,
   "id": "f04f4f59",
   "metadata": {},
   "outputs": [
    {
     "data": {
      "text/plain": [
       "0.5297187807276302"
      ]
     },
     "execution_count": 177,
     "metadata": {},
     "output_type": "execute_result"
    }
   ],
   "source": [
    "cross_val_score(logreg, X, Y, cv=5, scoring='accuracy').mean()"
   ]
  },
  {
   "cell_type": "code",
   "execution_count": 112,
   "id": "e9280523",
   "metadata": {},
   "outputs": [
    {
     "data": {
      "text/html": [
       "<div>\n",
       "<style scoped>\n",
       "    .dataframe tbody tr th:only-of-type {\n",
       "        vertical-align: middle;\n",
       "    }\n",
       "\n",
       "    .dataframe tbody tr th {\n",
       "        vertical-align: top;\n",
       "    }\n",
       "\n",
       "    .dataframe thead th {\n",
       "        text-align: right;\n",
       "    }\n",
       "</style>\n",
       "<table border=\"1\" class=\"dataframe\">\n",
       "  <thead>\n",
       "    <tr style=\"text-align: right;\">\n",
       "      <th></th>\n",
       "      <th>Turnover</th>\n",
       "      <th>Age</th>\n",
       "      <th>Anxiety_Level</th>\n",
       "      <th>Profession_Group</th>\n",
       "    </tr>\n",
       "  </thead>\n",
       "  <tbody>\n",
       "    <tr>\n",
       "      <th>1</th>\n",
       "      <td>1</td>\n",
       "      <td>&lt;=35</td>\n",
       "      <td>7.1</td>\n",
       "      <td>HR</td>\n",
       "    </tr>\n",
       "    <tr>\n",
       "      <th>2</th>\n",
       "      <td>1</td>\n",
       "      <td>&lt;=35</td>\n",
       "      <td>7.1</td>\n",
       "      <td>HR</td>\n",
       "    </tr>\n",
       "    <tr>\n",
       "      <th>3</th>\n",
       "      <td>1</td>\n",
       "      <td>&lt;=35</td>\n",
       "      <td>4.8</td>\n",
       "      <td>HR</td>\n",
       "    </tr>\n",
       "    <tr>\n",
       "      <th>4</th>\n",
       "      <td>1</td>\n",
       "      <td>&lt;=35</td>\n",
       "      <td>2.5</td>\n",
       "      <td>HR</td>\n",
       "    </tr>\n",
       "    <tr>\n",
       "      <th>5</th>\n",
       "      <td>1</td>\n",
       "      <td>&lt;=35</td>\n",
       "      <td>7.1</td>\n",
       "      <td>Others</td>\n",
       "    </tr>\n",
       "  </tbody>\n",
       "</table>\n",
       "</div>"
      ],
      "text/plain": [
       "   Turnover   Age  Anxiety_Level Profession_Group\n",
       "1         1  <=35            7.1               HR\n",
       "2         1  <=35            7.1               HR\n",
       "3         1  <=35            4.8               HR\n",
       "4         1  <=35            2.5               HR\n",
       "5         1  <=35            7.1           Others"
      ]
     },
     "execution_count": 112,
     "metadata": {},
     "output_type": "execute_result"
    }
   ],
   "source": [
    "data.head()  #Should encode data to be able to add features in our model"
   ]
  },
  {
   "cell_type": "code",
   "execution_count": 178,
   "id": "e4bfddb3",
   "metadata": {},
   "outputs": [],
   "source": [
    "from sklearn.preprocessing import OneHotEncoder\n",
    "ohe = OneHotEncoder(sparse= False)"
   ]
  },
  {
   "cell_type": "code",
   "execution_count": 179,
   "id": "93bc9204",
   "metadata": {},
   "outputs": [
    {
     "data": {
      "text/plain": [
       "array([[1., 0.],\n",
       "       [1., 0.],\n",
       "       [1., 0.],\n",
       "       ...,\n",
       "       [1., 0.],\n",
       "       [0., 1.],\n",
       "       [1., 0.]])"
      ]
     },
     "execution_count": 179,
     "metadata": {},
     "output_type": "execute_result"
    }
   ],
   "source": [
    "ohe.fit_transform(data[['Age']])"
   ]
  },
  {
   "cell_type": "code",
   "execution_count": 180,
   "id": "dc543333",
   "metadata": {},
   "outputs": [
    {
     "data": {
      "text/plain": [
       "[array(['<=35', '>35'], dtype=object)]"
      ]
     },
     "execution_count": 180,
     "metadata": {},
     "output_type": "execute_result"
    }
   ],
   "source": [
    "ohe.categories_"
   ]
  },
  {
   "cell_type": "code",
   "execution_count": 181,
   "id": "f913fa2f",
   "metadata": {},
   "outputs": [
    {
     "data": {
      "text/plain": [
       "array([[1., 0., 0.],\n",
       "       [1., 0., 0.],\n",
       "       [1., 0., 0.],\n",
       "       ...,\n",
       "       [0., 0., 1.],\n",
       "       [1., 0., 0.],\n",
       "       [1., 0., 0.]])"
      ]
     },
     "execution_count": 181,
     "metadata": {},
     "output_type": "execute_result"
    }
   ],
   "source": [
    "ohe.fit_transform(data[['Profession_Group']])"
   ]
  },
  {
   "cell_type": "code",
   "execution_count": 182,
   "id": "fd8d2c2e",
   "metadata": {},
   "outputs": [],
   "source": [
    "X = data.drop( 'Turnover', axis='columns')"
   ]
  },
  {
   "cell_type": "code",
   "execution_count": 183,
   "id": "afa7df6a",
   "metadata": {},
   "outputs": [
    {
     "data": {
      "text/html": [
       "<div>\n",
       "<style scoped>\n",
       "    .dataframe tbody tr th:only-of-type {\n",
       "        vertical-align: middle;\n",
       "    }\n",
       "\n",
       "    .dataframe tbody tr th {\n",
       "        vertical-align: top;\n",
       "    }\n",
       "\n",
       "    .dataframe thead th {\n",
       "        text-align: right;\n",
       "    }\n",
       "</style>\n",
       "<table border=\"1\" class=\"dataframe\">\n",
       "  <thead>\n",
       "    <tr style=\"text-align: right;\">\n",
       "      <th></th>\n",
       "      <th>Age</th>\n",
       "      <th>Anxiety_Level</th>\n",
       "      <th>Profession_Group</th>\n",
       "    </tr>\n",
       "  </thead>\n",
       "  <tbody>\n",
       "    <tr>\n",
       "      <th>1</th>\n",
       "      <td>&lt;=35</td>\n",
       "      <td>7.1</td>\n",
       "      <td>HR</td>\n",
       "    </tr>\n",
       "    <tr>\n",
       "      <th>2</th>\n",
       "      <td>&lt;=35</td>\n",
       "      <td>7.1</td>\n",
       "      <td>HR</td>\n",
       "    </tr>\n",
       "    <tr>\n",
       "      <th>3</th>\n",
       "      <td>&lt;=35</td>\n",
       "      <td>4.8</td>\n",
       "      <td>HR</td>\n",
       "    </tr>\n",
       "    <tr>\n",
       "      <th>4</th>\n",
       "      <td>&lt;=35</td>\n",
       "      <td>2.5</td>\n",
       "      <td>HR</td>\n",
       "    </tr>\n",
       "    <tr>\n",
       "      <th>5</th>\n",
       "      <td>&lt;=35</td>\n",
       "      <td>7.1</td>\n",
       "      <td>Others</td>\n",
       "    </tr>\n",
       "  </tbody>\n",
       "</table>\n",
       "</div>"
      ],
      "text/plain": [
       "    Age  Anxiety_Level Profession_Group\n",
       "1  <=35            7.1               HR\n",
       "2  <=35            7.1               HR\n",
       "3  <=35            4.8               HR\n",
       "4  <=35            2.5               HR\n",
       "5  <=35            7.1           Others"
      ]
     },
     "execution_count": 183,
     "metadata": {},
     "output_type": "execute_result"
    }
   ],
   "source": [
    "X.head()"
   ]
  },
  {
   "cell_type": "code",
   "execution_count": 184,
   "id": "723e3222",
   "metadata": {},
   "outputs": [],
   "source": [
    "from sklearn.compose import make_column_transformer #Need for features that need preprocessing, ex: encoding"
   ]
  },
  {
   "cell_type": "code",
   "execution_count": 185,
   "id": "5c9e8307",
   "metadata": {},
   "outputs": [],
   "source": [
    "column_trans = make_column_transformer(\n",
    "    (OneHotEncoder(), ['Age','Anxiety_Level','Profession_Group']),\n",
    "    remainder='passthrough')"
   ]
  },
  {
   "cell_type": "code",
   "execution_count": 186,
   "id": "96f67569",
   "metadata": {},
   "outputs": [
    {
     "data": {
      "text/plain": [
       "<1129x17 sparse matrix of type '<class 'numpy.float64'>'\n",
       "\twith 3387 stored elements in Compressed Sparse Row format>"
      ]
     },
     "execution_count": 186,
     "metadata": {},
     "output_type": "execute_result"
    }
   ],
   "source": [
    "column_trans.fit_transform(X)"
   ]
  },
  {
   "cell_type": "code",
   "execution_count": 187,
   "id": "7b28f98e",
   "metadata": {},
   "outputs": [],
   "source": [
    "from sklearn.pipeline import make_pipeline #chaine step together"
   ]
  },
  {
   "cell_type": "code",
   "execution_count": 188,
   "id": "ed995f4d",
   "metadata": {},
   "outputs": [],
   "source": [
    "pipe = make_pipeline(column_trans, logreg) #take my data, transform columns and build my model logistic regression"
   ]
  },
  {
   "cell_type": "code",
   "execution_count": 189,
   "id": "a698d065",
   "metadata": {},
   "outputs": [
    {
     "data": {
      "text/plain": [
       "0.5349577187807276"
      ]
     },
     "execution_count": 189,
     "metadata": {},
     "output_type": "execute_result"
    }
   ],
   "source": [
    "cross_val_score(pipe, X, Y, cv=5, scoring='accuracy').mean() #Adding features not really improve my model"
   ]
  },
  {
   "cell_type": "markdown",
   "id": "2a9436ab",
   "metadata": {},
   "source": [
    "Let's chek Age and Anxiety (Like in R)"
   ]
  },
  {
   "cell_type": "code",
   "execution_count": 194,
   "id": "0a98d4ef",
   "metadata": {},
   "outputs": [
    {
     "data": {
      "text/html": [
       "<div>\n",
       "<style scoped>\n",
       "    .dataframe tbody tr th:only-of-type {\n",
       "        vertical-align: middle;\n",
       "    }\n",
       "\n",
       "    .dataframe tbody tr th {\n",
       "        vertical-align: top;\n",
       "    }\n",
       "\n",
       "    .dataframe thead th {\n",
       "        text-align: right;\n",
       "    }\n",
       "</style>\n",
       "<table border=\"1\" class=\"dataframe\">\n",
       "  <thead>\n",
       "    <tr style=\"text-align: right;\">\n",
       "      <th></th>\n",
       "      <th>Age</th>\n",
       "      <th>Anxiety_Level</th>\n",
       "      <th>Profession_Group</th>\n",
       "    </tr>\n",
       "  </thead>\n",
       "  <tbody>\n",
       "    <tr>\n",
       "      <th>302</th>\n",
       "      <td>&lt;=35</td>\n",
       "      <td>3.3</td>\n",
       "      <td>Others</td>\n",
       "    </tr>\n",
       "    <tr>\n",
       "      <th>416</th>\n",
       "      <td>&lt;=35</td>\n",
       "      <td>7.1</td>\n",
       "      <td>HR</td>\n",
       "    </tr>\n",
       "    <tr>\n",
       "      <th>155</th>\n",
       "      <td>&lt;=35</td>\n",
       "      <td>8.7</td>\n",
       "      <td>HR</td>\n",
       "    </tr>\n",
       "    <tr>\n",
       "      <th>735</th>\n",
       "      <td>&gt;35</td>\n",
       "      <td>5.6</td>\n",
       "      <td>IT</td>\n",
       "    </tr>\n",
       "    <tr>\n",
       "      <th>551</th>\n",
       "      <td>&lt;=35</td>\n",
       "      <td>5.6</td>\n",
       "      <td>HR</td>\n",
       "    </tr>\n",
       "    <tr>\n",
       "      <th>570</th>\n",
       "      <td>&lt;=35</td>\n",
       "      <td>6.3</td>\n",
       "      <td>HR</td>\n",
       "    </tr>\n",
       "    <tr>\n",
       "      <th>309</th>\n",
       "      <td>&lt;=35</td>\n",
       "      <td>6.3</td>\n",
       "      <td>HR</td>\n",
       "    </tr>\n",
       "    <tr>\n",
       "      <th>510</th>\n",
       "      <td>&lt;=35</td>\n",
       "      <td>5.6</td>\n",
       "      <td>Others</td>\n",
       "    </tr>\n",
       "    <tr>\n",
       "      <th>380</th>\n",
       "      <td>&lt;=35</td>\n",
       "      <td>7.1</td>\n",
       "      <td>Others</td>\n",
       "    </tr>\n",
       "    <tr>\n",
       "      <th>1015</th>\n",
       "      <td>&lt;=35</td>\n",
       "      <td>7.9</td>\n",
       "      <td>Others</td>\n",
       "    </tr>\n",
       "  </tbody>\n",
       "</table>\n",
       "</div>"
      ],
      "text/plain": [
       "       Age  Anxiety_Level Profession_Group\n",
       "302   <=35            3.3           Others\n",
       "416   <=35            7.1               HR\n",
       "155   <=35            8.7               HR\n",
       "735    >35            5.6               IT\n",
       "551   <=35            5.6               HR\n",
       "570   <=35            6.3               HR\n",
       "309   <=35            6.3               HR\n",
       "510   <=35            5.6           Others\n",
       "380   <=35            7.1           Others\n",
       "1015  <=35            7.9           Others"
      ]
     },
     "execution_count": 194,
     "metadata": {},
     "output_type": "execute_result"
    }
   ],
   "source": [
    "#Creating new data:\n",
    "X_new = X.sample(10, random_state= 1000)\n",
    "X_new"
   ]
  },
  {
   "cell_type": "code",
   "execution_count": 195,
   "id": "44b2de13",
   "metadata": {},
   "outputs": [
    {
     "data": {
      "text/html": [
       "<style>#sk-container-id-2 {color: black;background-color: white;}#sk-container-id-2 pre{padding: 0;}#sk-container-id-2 div.sk-toggleable {background-color: white;}#sk-container-id-2 label.sk-toggleable__label {cursor: pointer;display: block;width: 100%;margin-bottom: 0;padding: 0.3em;box-sizing: border-box;text-align: center;}#sk-container-id-2 label.sk-toggleable__label-arrow:before {content: \"▸\";float: left;margin-right: 0.25em;color: #696969;}#sk-container-id-2 label.sk-toggleable__label-arrow:hover:before {color: black;}#sk-container-id-2 div.sk-estimator:hover label.sk-toggleable__label-arrow:before {color: black;}#sk-container-id-2 div.sk-toggleable__content {max-height: 0;max-width: 0;overflow: hidden;text-align: left;background-color: #f0f8ff;}#sk-container-id-2 div.sk-toggleable__content pre {margin: 0.2em;color: black;border-radius: 0.25em;background-color: #f0f8ff;}#sk-container-id-2 input.sk-toggleable__control:checked~div.sk-toggleable__content {max-height: 200px;max-width: 100%;overflow: auto;}#sk-container-id-2 input.sk-toggleable__control:checked~label.sk-toggleable__label-arrow:before {content: \"▾\";}#sk-container-id-2 div.sk-estimator input.sk-toggleable__control:checked~label.sk-toggleable__label {background-color: #d4ebff;}#sk-container-id-2 div.sk-label input.sk-toggleable__control:checked~label.sk-toggleable__label {background-color: #d4ebff;}#sk-container-id-2 input.sk-hidden--visually {border: 0;clip: rect(1px 1px 1px 1px);clip: rect(1px, 1px, 1px, 1px);height: 1px;margin: -1px;overflow: hidden;padding: 0;position: absolute;width: 1px;}#sk-container-id-2 div.sk-estimator {font-family: monospace;background-color: #f0f8ff;border: 1px dotted black;border-radius: 0.25em;box-sizing: border-box;margin-bottom: 0.5em;}#sk-container-id-2 div.sk-estimator:hover {background-color: #d4ebff;}#sk-container-id-2 div.sk-parallel-item::after {content: \"\";width: 100%;border-bottom: 1px solid gray;flex-grow: 1;}#sk-container-id-2 div.sk-label:hover label.sk-toggleable__label {background-color: #d4ebff;}#sk-container-id-2 div.sk-serial::before {content: \"\";position: absolute;border-left: 1px solid gray;box-sizing: border-box;top: 0;bottom: 0;left: 50%;z-index: 0;}#sk-container-id-2 div.sk-serial {display: flex;flex-direction: column;align-items: center;background-color: white;padding-right: 0.2em;padding-left: 0.2em;position: relative;}#sk-container-id-2 div.sk-item {position: relative;z-index: 1;}#sk-container-id-2 div.sk-parallel {display: flex;align-items: stretch;justify-content: center;background-color: white;position: relative;}#sk-container-id-2 div.sk-item::before, #sk-container-id-2 div.sk-parallel-item::before {content: \"\";position: absolute;border-left: 1px solid gray;box-sizing: border-box;top: 0;bottom: 0;left: 50%;z-index: -1;}#sk-container-id-2 div.sk-parallel-item {display: flex;flex-direction: column;z-index: 1;position: relative;background-color: white;}#sk-container-id-2 div.sk-parallel-item:first-child::after {align-self: flex-end;width: 50%;}#sk-container-id-2 div.sk-parallel-item:last-child::after {align-self: flex-start;width: 50%;}#sk-container-id-2 div.sk-parallel-item:only-child::after {width: 0;}#sk-container-id-2 div.sk-dashed-wrapped {border: 1px dashed gray;margin: 0 0.4em 0.5em 0.4em;box-sizing: border-box;padding-bottom: 0.4em;background-color: white;}#sk-container-id-2 div.sk-label label {font-family: monospace;font-weight: bold;display: inline-block;line-height: 1.2em;}#sk-container-id-2 div.sk-label-container {text-align: center;}#sk-container-id-2 div.sk-container {/* jupyter's `normalize.less` sets `[hidden] { display: none; }` but bootstrap.min.css set `[hidden] { display: none !important; }` so we also need the `!important` here to be able to override the default hidden behavior on the sphinx rendered scikit-learn.org. See: https://github.com/scikit-learn/scikit-learn/issues/21755 */display: inline-block !important;position: relative;}#sk-container-id-2 div.sk-text-repr-fallback {display: none;}</style><div id=\"sk-container-id-2\" class=\"sk-top-container\"><div class=\"sk-text-repr-fallback\"><pre>Pipeline(steps=[(&#x27;columntransformer&#x27;,\n",
       "                 ColumnTransformer(remainder=&#x27;passthrough&#x27;,\n",
       "                                   transformers=[(&#x27;onehotencoder&#x27;,\n",
       "                                                  OneHotEncoder(),\n",
       "                                                  [&#x27;Age&#x27;, &#x27;Anxiety_Level&#x27;,\n",
       "                                                   &#x27;Profession_Group&#x27;])])),\n",
       "                (&#x27;logisticregression&#x27;, LogisticRegression())])</pre><b>In a Jupyter environment, please rerun this cell to show the HTML representation or trust the notebook. <br />On GitHub, the HTML representation is unable to render, please try loading this page with nbviewer.org.</b></div><div class=\"sk-container\" hidden><div class=\"sk-item sk-dashed-wrapped\"><div class=\"sk-label-container\"><div class=\"sk-label sk-toggleable\"><input class=\"sk-toggleable__control sk-hidden--visually\" id=\"sk-estimator-id-8\" type=\"checkbox\" ><label for=\"sk-estimator-id-8\" class=\"sk-toggleable__label sk-toggleable__label-arrow\">Pipeline</label><div class=\"sk-toggleable__content\"><pre>Pipeline(steps=[(&#x27;columntransformer&#x27;,\n",
       "                 ColumnTransformer(remainder=&#x27;passthrough&#x27;,\n",
       "                                   transformers=[(&#x27;onehotencoder&#x27;,\n",
       "                                                  OneHotEncoder(),\n",
       "                                                  [&#x27;Age&#x27;, &#x27;Anxiety_Level&#x27;,\n",
       "                                                   &#x27;Profession_Group&#x27;])])),\n",
       "                (&#x27;logisticregression&#x27;, LogisticRegression())])</pre></div></div></div><div class=\"sk-serial\"><div class=\"sk-item sk-dashed-wrapped\"><div class=\"sk-label-container\"><div class=\"sk-label sk-toggleable\"><input class=\"sk-toggleable__control sk-hidden--visually\" id=\"sk-estimator-id-9\" type=\"checkbox\" ><label for=\"sk-estimator-id-9\" class=\"sk-toggleable__label sk-toggleable__label-arrow\">columntransformer: ColumnTransformer</label><div class=\"sk-toggleable__content\"><pre>ColumnTransformer(remainder=&#x27;passthrough&#x27;,\n",
       "                  transformers=[(&#x27;onehotencoder&#x27;, OneHotEncoder(),\n",
       "                                 [&#x27;Age&#x27;, &#x27;Anxiety_Level&#x27;, &#x27;Profession_Group&#x27;])])</pre></div></div></div><div class=\"sk-parallel\"><div class=\"sk-parallel-item\"><div class=\"sk-item\"><div class=\"sk-label-container\"><div class=\"sk-label sk-toggleable\"><input class=\"sk-toggleable__control sk-hidden--visually\" id=\"sk-estimator-id-10\" type=\"checkbox\" ><label for=\"sk-estimator-id-10\" class=\"sk-toggleable__label sk-toggleable__label-arrow\">onehotencoder</label><div class=\"sk-toggleable__content\"><pre>[&#x27;Age&#x27;, &#x27;Anxiety_Level&#x27;, &#x27;Profession_Group&#x27;]</pre></div></div></div><div class=\"sk-serial\"><div class=\"sk-item\"><div class=\"sk-estimator sk-toggleable\"><input class=\"sk-toggleable__control sk-hidden--visually\" id=\"sk-estimator-id-11\" type=\"checkbox\" ><label for=\"sk-estimator-id-11\" class=\"sk-toggleable__label sk-toggleable__label-arrow\">OneHotEncoder</label><div class=\"sk-toggleable__content\"><pre>OneHotEncoder()</pre></div></div></div></div></div></div><div class=\"sk-parallel-item\"><div class=\"sk-item\"><div class=\"sk-label-container\"><div class=\"sk-label sk-toggleable\"><input class=\"sk-toggleable__control sk-hidden--visually\" id=\"sk-estimator-id-12\" type=\"checkbox\" ><label for=\"sk-estimator-id-12\" class=\"sk-toggleable__label sk-toggleable__label-arrow\">remainder</label><div class=\"sk-toggleable__content\"><pre>[]</pre></div></div></div><div class=\"sk-serial\"><div class=\"sk-item\"><div class=\"sk-estimator sk-toggleable\"><input class=\"sk-toggleable__control sk-hidden--visually\" id=\"sk-estimator-id-13\" type=\"checkbox\" ><label for=\"sk-estimator-id-13\" class=\"sk-toggleable__label sk-toggleable__label-arrow\">passthrough</label><div class=\"sk-toggleable__content\"><pre>passthrough</pre></div></div></div></div></div></div></div></div><div class=\"sk-item\"><div class=\"sk-estimator sk-toggleable\"><input class=\"sk-toggleable__control sk-hidden--visually\" id=\"sk-estimator-id-14\" type=\"checkbox\" ><label for=\"sk-estimator-id-14\" class=\"sk-toggleable__label sk-toggleable__label-arrow\">LogisticRegression</label><div class=\"sk-toggleable__content\"><pre>LogisticRegression()</pre></div></div></div></div></div></div></div>"
      ],
      "text/plain": [
       "Pipeline(steps=[('columntransformer',\n",
       "                 ColumnTransformer(remainder='passthrough',\n",
       "                                   transformers=[('onehotencoder',\n",
       "                                                  OneHotEncoder(),\n",
       "                                                  ['Age', 'Anxiety_Level',\n",
       "                                                   'Profession_Group'])])),\n",
       "                ('logisticregression', LogisticRegression())])"
      ]
     },
     "execution_count": 195,
     "metadata": {},
     "output_type": "execute_result"
    }
   ],
   "source": [
    "pipe.fit(X , Y)"
   ]
  },
  {
   "cell_type": "code",
   "execution_count": 196,
   "id": "d95a8379",
   "metadata": {},
   "outputs": [
    {
     "data": {
      "text/plain": [
       "array([1, 0, 0, 0, 0, 0, 0, 1, 1, 1], dtype=int64)"
      ]
     },
     "execution_count": 196,
     "metadata": {},
     "output_type": "execute_result"
    }
   ],
   "source": [
    "#Making prediction on new data:\n",
    "pipe.predict(X_new)"
   ]
  }
 ],
 "metadata": {
  "kernelspec": {
   "display_name": "Python 3 (ipykernel)",
   "language": "python",
   "name": "python3"
  },
  "language_info": {
   "codemirror_mode": {
    "name": "ipython",
    "version": 3
   },
   "file_extension": ".py",
   "mimetype": "text/x-python",
   "name": "python",
   "nbconvert_exporter": "python",
   "pygments_lexer": "ipython3",
   "version": "3.9.7"
  }
 },
 "nbformat": 4,
 "nbformat_minor": 5
}
